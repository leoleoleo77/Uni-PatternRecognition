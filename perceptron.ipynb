{
 "cells": [
  {
   "cell_type": "code",
   "execution_count": 1,
   "metadata": {},
   "outputs": [],
   "source": [
    "import dataMethods\n",
    "import numpy as np\n",
    "import sys\n",
    "sys.stdout = open('log.txt', 'w')\n",
    "np.set_printoptions(threshold = np.inf)"
   ]
  },
  {
   "cell_type": "code",
   "execution_count": 2,
   "metadata": {},
   "outputs": [],
   "source": [
    "class Perceptron:\n",
    "    def __init__(this, learning_rate=0.01):\n",
    "        this.lr = learning_rate\n",
    "        this.weights = None\n",
    "\n",
    "    def Train_weights(this, data, data_labels):\n",
    "        n_data = len(data)# the number of data the algorithm trains on\n",
    "        dimensions = len(data[0]) # get the number of features/dimensions of our data\n",
    "        this.weights = np.zeros(dimensions) # initialize the weights for each feature/dimention to 0\n",
    "        while n_data > 0:\n",
    "\n",
    "            #current_accurancy = this.Accurancy(data, data_labels)\n",
    "            #print(\"Weights: \", this.weights)\n",
    "            #print(\"Accuracy: \", current_accurancy)\n",
    "            \n",
    "            for index, data_i in enumerate(data):\n",
    "                linear_output = np.dot(this.weights, data_i) # f(w, x) = <w, x>\n",
    "                print(data_i)\n",
    "                class_predicted = this.Activation_function(linear_output)\n",
    "                # Perceptron update rule\n",
    "                update = this.lr * (data_labels[index] - class_predicted)\n",
    "                this.weights += update * data_i\n",
    "            n_data -= 1\n",
    "        return this.weights\n",
    "    \n",
    "    def Activation_function(this, x):\n",
    "        unit_step_function = np.where(x >= 0, 1, 0)\n",
    "        return unit_step_function\n",
    "    \n",
    "    def Predict(this, data_i):\n",
    "        activation = 0.0\n",
    "        for input, weight in zip(data_i, this.weights):\n",
    "            activation += input * weight\n",
    "        if activation >= 0.0:\n",
    "            return 1.0\n",
    "        return 0.0\n",
    "\n",
    "    def Accurancy(this, data, data_labels):\n",
    "        correct_predictions = 0.0\n",
    "        predictions = []\n",
    "        for i in range(len(data)):\n",
    "            pred_i = this.Predict(data[i]) \n",
    "            predictions.append(pred_i)\n",
    "            if pred_i == data_labels[i]:\n",
    "                correct_predictions += 1.0\n",
    "        return correct_predictions / float(len(data))"
   ]
  },
  {
   "cell_type": "code",
   "execution_count": 3,
   "metadata": {},
   "outputs": [
    {
     "ename": "ValueError",
     "evalue": "operands could not be broadcast together with shapes (5,) (10,) ",
     "output_type": "error",
     "traceback": [
      "\u001b[1;31m---------------------------------------------------------------------------\u001b[0m",
      "\u001b[1;31mValueError\u001b[0m                                Traceback (most recent call last)",
      "Cell \u001b[1;32mIn[3], line 5\u001b[0m\n\u001b[0;32m      3\u001b[0m training_data \u001b[38;5;241m=\u001b[39m mydata\u001b[38;5;241m.\u001b[39mTraining()\n\u001b[0;32m      4\u001b[0m training_labels \u001b[38;5;241m=\u001b[39m mydata\u001b[38;5;241m.\u001b[39mTesting_labels()\n\u001b[1;32m----> 5\u001b[0m \u001b[43mp\u001b[49m\u001b[38;5;241;43m.\u001b[39;49m\u001b[43mTrain_weights\u001b[49m\u001b[43m(\u001b[49m\u001b[43mtraining_data\u001b[49m\u001b[43m,\u001b[49m\u001b[43m \u001b[49m\u001b[43mtraining_labels\u001b[49m\u001b[43m)\u001b[49m\n",
      "Cell \u001b[1;32mIn[2], line 22\u001b[0m, in \u001b[0;36mPerceptron.Train_weights\u001b[1;34m(this, data, data_labels)\u001b[0m\n\u001b[0;32m     20\u001b[0m         \u001b[38;5;66;03m# Perceptron update rule\u001b[39;00m\n\u001b[0;32m     21\u001b[0m         update \u001b[38;5;241m=\u001b[39m this\u001b[38;5;241m.\u001b[39mlr \u001b[38;5;241m*\u001b[39m (data_labels[index] \u001b[38;5;241m-\u001b[39m class_predicted)\n\u001b[1;32m---> 22\u001b[0m         this\u001b[38;5;241m.\u001b[39mweights \u001b[38;5;241m+\u001b[39m\u001b[38;5;241m=\u001b[39m \u001b[43mupdate\u001b[49m\u001b[43m \u001b[49m\u001b[38;5;241;43m*\u001b[39;49m\u001b[43m \u001b[49m\u001b[43mdata_i\u001b[49m\n\u001b[0;32m     23\u001b[0m     n_data \u001b[38;5;241m-\u001b[39m\u001b[38;5;241m=\u001b[39m \u001b[38;5;241m1\u001b[39m\n\u001b[0;32m     24\u001b[0m \u001b[38;5;28;01mreturn\u001b[39;00m this\u001b[38;5;241m.\u001b[39mweights\n",
      "\u001b[1;31mValueError\u001b[0m: operands could not be broadcast together with shapes (5,) (10,) "
     ]
    }
   ],
   "source": [
    "p = Perceptron()\n",
    "mydata = dataMethods.Perceptron_data()\n",
    "training_data = mydata.Training()\n",
    "training_labels = mydata.Testing_labels()\n",
    "p.Train_weights(training_data, training_labels)"
   ]
  }
 ],
 "metadata": {
  "kernelspec": {
   "display_name": "Python 3",
   "language": "python",
   "name": "python3"
  },
  "language_info": {
   "codemirror_mode": {
    "name": "ipython",
    "version": 3
   },
   "file_extension": ".py",
   "mimetype": "text/x-python",
   "name": "python",
   "nbconvert_exporter": "python",
   "pygments_lexer": "ipython3",
   "version": "3.10.4"
  }
 },
 "nbformat": 4,
 "nbformat_minor": 2
}
