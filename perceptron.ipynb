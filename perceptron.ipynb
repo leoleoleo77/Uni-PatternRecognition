{
 "cells": [
  {
   "cell_type": "code",
   "execution_count": 246,
   "metadata": {},
   "outputs": [],
   "source": [
    "import dataMethods\n",
    "import numpy as np"
   ]
  },
  {
   "cell_type": "code",
   "execution_count": 247,
   "metadata": {},
   "outputs": [],
   "source": [
    "class Perceptron:\n",
    "    def __init__(this, learning_rate=0.01):\n",
    "        this.lr = learning_rate\n",
    "        this.weights = None\n",
    "\n",
    "    def Train_weights(this, data, data_labels):\n",
    "        n_data = len(data) # the number of data the algorithm trains on\n",
    "        dimensions = len(data[0]) # get the number of features/dimensions of our data\n",
    "        this.weights = np.zeros(dimensions) # initialize the weights for each feature/dimention to 0\n",
    "        while n_data > 0:\n",
    "\n",
    "            current_accurancy = this.Accurancy(data, data_labels)\n",
    "            print(\"Weights: \", this.weights)\n",
    "            print(\"Accuracy: \", current_accurancy)\n",
    "            \n",
    "            for index, data_i in enumerate(data):\n",
    "                linear_output = np.dot(this.weights, data_i) # f(w, x) = <w, x>\n",
    "                class_predicted = this.Activation_function(linear_output)\n",
    "                # Perceptron update rule\n",
    "                update = this.lr * (data_labels[index] - class_predicted)\n",
    "                this.weights += update * data_i\n",
    "\n",
    "            n_data -= 1\n",
    "        return this.weights\n",
    "    \n",
    "    def Activation_function(this, x):\n",
    "        unit_step_function = np.where(x >= 0, 1, 0)\n",
    "        return unit_step_function\n",
    "    \n",
    "    def Predict(this, data_i):\n",
    "        activation = 0.0\n",
    "        for input, weight in zip(data_i, this.weights):\n",
    "            activation += input * weight\n",
    "        if activation >= 0.0:\n",
    "            return 1.0\n",
    "        return 0.0\n",
    "\n",
    "    def Accurancy(this, data, data_labels):\n",
    "        correct_predictions = 0.0\n",
    "        predictions = []\n",
    "        for i in range(len(data)):\n",
    "            pred_i = this.Predict(data[i]) \n",
    "            predictions.append(pred_i)\n",
    "            if pred_i == data_labels[i]:\n",
    "                correct_predictions += 1.0\n",
    "        return correct_predictions / float(len(data))"
   ]
  },
  {
   "cell_type": "code",
   "execution_count": 248,
   "metadata": {},
   "outputs": [
    {
     "name": "stdout",
     "output_type": "stream",
     "text": [
      "Weights:  [0. 0. 0.]\n",
      "Accuracy:  0.5\n",
      "Weights:  [ 0.      0.0006 -0.0077]\n",
      "Accuracy:  0.5\n",
      "Weights:  [ 0.     -0.003  -0.0192]\n",
      "Accuracy:  0.5\n",
      "Weights:  [ 0.     -0.0092 -0.0185]\n",
      "Accuracy:  0.5\n",
      "Weights:  [ 0.01   -0.0084 -0.0113]\n",
      "Accuracy:  1.0\n",
      "Weights:  [ 0.01   -0.0084 -0.0113]\n",
      "Accuracy:  1.0\n",
      "Weights:  [ 0.01   -0.0084 -0.0113]\n",
      "Accuracy:  1.0\n",
      "Weights:  [ 0.01   -0.0084 -0.0113]\n",
      "Accuracy:  1.0\n"
     ]
    },
    {
     "data": {
      "text/plain": [
       "array([ 0.01  , -0.0084, -0.0113])"
      ]
     },
     "execution_count": 248,
     "metadata": {},
     "output_type": "execute_result"
    }
   ],
   "source": [
    "    \n",
    "data = np.array([[1.00,\t0.08,\t0.72],\n",
    "        [1.00,\t0.10,\t1.00],\n",
    "        [1.00,\t0.26,\t0.58],\n",
    "        [1.00,\t0.35,\t0.95],\n",
    "        [1.00,\t0.45,\t0.15],\n",
    "        [1.00,\t0.60,\t0.30],\n",
    "        [1.00,\t0.70,\t0.65],\n",
    "        [1.00,\t0.92,\t0.45]])\n",
    "data_labels = np.array([1, 0, 1, 0, 1, 1, 0, 0])\n",
    "p = Perceptron()\n",
    "p.Train_weights(data, data_labels)"
   ]
  }
 ],
 "metadata": {
  "kernelspec": {
   "display_name": "Python 3",
   "language": "python",
   "name": "python3"
  },
  "language_info": {
   "codemirror_mode": {
    "name": "ipython",
    "version": 3
   },
   "file_extension": ".py",
   "mimetype": "text/x-python",
   "name": "python",
   "nbconvert_exporter": "python",
   "pygments_lexer": "ipython3",
   "version": "3.10.4"
  }
 },
 "nbformat": 4,
 "nbformat_minor": 2
}
